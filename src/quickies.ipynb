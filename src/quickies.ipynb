{
 "cells": [
  {
   "cell_type": "code",
   "execution_count": 1,
   "metadata": {},
   "outputs": [
    {
     "name": "stdout",
     "output_type": "stream",
     "text": [
      "GNU bash, version 3.2.57(1)-release (x86_64-apple-darwin18)\n",
      "Copyright (C) 2007 Free Software Foundation, Inc.\n"
     ]
    }
   ],
   "source": [
    "bash --version"
   ]
  },
  {
   "cell_type": "code",
   "execution_count": 31,
   "metadata": {},
   "outputs": [
    {
     "name": "stdout",
     "output_type": "stream",
     "text": [
      " Duden-Verlag.\n",
      " Niemeyer.\n",
      " Oldenbourg.\n",
      " Raabe.\n",
      " Raabe. \n",
      " Schneider Verlag Hohengehren.\n",
      " Stauffenburg.\n",
      " Thieme.\n",
      " Universitätsverlag.\n",
      " Urban & Fischer.\n",
      " Verlag für Gesprächsforschung.\n",
      " Westdeutscher Verlag.\n",
      " ein Daten- und Forschungsüberblick. München.\n",
      " eine Handreichung. Berlin.\n",
      " hep.\n"
     ]
    }
   ],
   "source": [
    "cat ../data.txt | egrep 'Hg+' | rev | cut -d: -f1 | rev | egrep -v '\\d+' | sort | uniq"
   ]
  },
  {
   "cell_type": "code",
   "execution_count": 37,
   "metadata": {},
   "outputs": [
    {
     "name": "stdout",
     "output_type": "stream",
     "text": [
      "Bauer, Ulrich (2001): „Das Prüfen ausländischer Studierender: Probleme und Lösungen“. In: Berendt, Brigitte / Szczyrba, Birgit / Fleischmann, Andreas / Schaper, Niclas / Wildt, Johannes (Hgg.): Neues Handbuch Hochschullehre, Kapitel H 3.1. Berlin: Raabe.\n",
      "Stary, Joachim (2001): „‚Doch nicht durch Worte allein ...‘: Die mündliche Prüfung“. In: Berendt, Brigitte / Szczyrba, Birgit / Fleischmann, Andreas / Schaper, Niclas / Wildt, Johannes (Hgg.): Neues Handbuch Hochschullehre, Kapitel H 2.1. Berlin: Raabe. \n"
     ]
    }
   ],
   "source": [
    "cat ../data.txt |  egrep 'Hg+'|egrep \"Raabe\\.[ ]?\""
   ]
  },
  {
   "cell_type": "code",
   "execution_count": 33,
   "metadata": {},
   "outputs": [
    {
     "name": "stdout",
     "output_type": "stream",
     "text": [
      "Dedering, Hans-Martin / Naumann, Bernd (1986): „Gesprächsaktinitiierende Steuerungsmittel in Prüfungsgesprächen“. In: Hundsnurscher, Franz / Weigand, Edda (Hgg.): Dialoganalyse: Referate der 1. Arbeitstagung in Münster. Tübingen: Niemeyer.\r\n"
     ]
    }
   ],
   "source": [
    "cat ../data.txt |  egrep 'Hg+'|egrep \"Niemeyer\\.\""
   ]
  },
  {
   "cell_type": "code",
   "execution_count": 36,
   "metadata": {},
   "outputs": [
    {
     "name": "stdout",
     "output_type": "stream",
     "text": [
      " Niemeyer.\n",
      " Raabe.\n",
      " Raabe. \n",
      " Universitätsverlag.\n",
      " ein Daten- und Forschungsüberblick. München.\n"
     ]
    }
   ],
   "source": [
    "cat ../data.txt | egrep 'Hg+' | egrep 'In\\:' |  rev | cut -d: -f1 | rev | egrep -v '\\d+' | sed -e 's/[ \\t]$//g' | sort | uniq"
   ]
  },
  {
   "cell_type": "code",
   "execution_count": 38,
   "metadata": {},
   "outputs": [
    {
     "name": "stdout",
     "output_type": "stream",
     "text": [
      "Domes, Sonja (eingereicht): „Kommunikation im Kreißsaal: Wie überwiden Hebammen und Migrantinnen sprachliche Hürden?“. In: Wulff, Nadja / Strömsdörfer, Dennis / Willmann, Markus (Hgg.): Deutsch weltweit: Materialien Deutsch als Fremdsprache. Göttingen: Universitätsverlag.\r\n"
     ]
    }
   ],
   "source": [
    "cat ../data.txt |  egrep 'Hg+'|egrep \"Universitätsverlag\\.\""
   ]
  },
  {
   "cell_type": "code",
   "execution_count": 39,
   "metadata": {},
   "outputs": [
    {
     "name": "stdout",
     "output_type": "stream",
     "text": [
      "Uchronski, Mirjam (2012): „Berufliche Ausbildung“. In: Deutsches Jugendinstitut (Hg.): Schulische und außerschulische Bildungssituation von Jugendlichen mit Migrationshintergrund. Jugend-Migrationsreport: ein Daten- und Forschungsüberblick. München.\r\n"
     ]
    }
   ],
   "source": [
    "cat ../data.txt |  egrep 'Hg+'|egrep \"München\\.\""
   ]
  },
  {
   "cell_type": "code",
   "execution_count": 42,
   "metadata": {},
   "outputs": [],
   "source": [
    "cat ../data.txt | egrep 'Hg+'| egrep 'http' | rev | cut -d: -f1 | rev | egrep -v '\\d+' | sort | uniq"
   ]
  }
 ],
 "metadata": {
  "kernelspec": {
   "display_name": "Bash",
   "language": "bash",
   "name": "bash"
  },
  "language_info": {
   "codemirror_mode": "shell",
   "file_extension": ".sh",
   "mimetype": "text/x-sh",
   "name": "bash"
  }
 },
 "nbformat": 4,
 "nbformat_minor": 2
}
